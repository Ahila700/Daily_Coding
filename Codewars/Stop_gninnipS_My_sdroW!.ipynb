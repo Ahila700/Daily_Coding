{
 "cells": [
  {
   "cell_type": "markdown",
   "metadata": {},
   "source": [
    "We are taking a sentence given as a string and spinning every word that is 5 or more characters"
   ]
  },
  {
   "cell_type": "code",
   "execution_count": null,
   "metadata": {},
   "outputs": [],
   "source": [
    "def spin_words(sentence):\n",
    "    # initialize an empty list to store each word that gets flipped\n",
    "    final_result = []\n",
    "    \n",
    "    # since it is in a single string to loop through the words i need to first put it\n",
    "    # as a list of words but using .split()\n",
    "    for word in sentence.split():\n",
    "        \n",
    "        # checking if the word is 5 or more characters\n",
    "        if len(word) >= 5:\n",
    "            \n",
    "            # if it is i am taking the reverse of the word and storing it in the list\n",
    "            # [::-1] takes the string and returns every character [:] and the -1 at the end\n",
    "            # means we take the whole word in reverse\n",
    "            final_result.append(word[::-1])\n",
    "        \n",
    "        # otherwise we just take the word and add it to the list as is\n",
    "        else:\n",
    "            final_result.append(word)\n",
    "            \n",
    "    # finally we return the joined version of the final list we made which will output a\n",
    "    # string\n",
    "    return ' '.join(final_result)\n",
    "\n",
    "    \n",
    "\n",
    "\n",
    "    \n",
    "# here is a short 1 line version of the code above \n",
    "def spin_words(sentence):  \n",
    "    return ' '.join([word[::-1] if len(word) >= 5 else word for word in sentence.split()])"
   ]
  }
 ],
 "metadata": {
  "kernelspec": {
   "display_name": "Python 3",
   "language": "python",
   "name": "python3"
  },
  "language_info": {
   "codemirror_mode": {
    "name": "ipython",
    "version": 3
   },
   "file_extension": ".py",
   "mimetype": "text/x-python",
   "name": "python",
   "nbconvert_exporter": "python",
   "pygments_lexer": "ipython3",
   "version": "3.7.6"
  }
 },
 "nbformat": 4,
 "nbformat_minor": 4
}
