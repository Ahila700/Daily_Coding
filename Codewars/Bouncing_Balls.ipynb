{
 "cells": [
  {
   "cell_type": "markdown",
   "metadata": {},
   "source": [
    "In this challenge we have a ball being bounced from a height h, a bounce which affect how high up it comes back, and a window looking at the ball.\n",
    "\n",
    "We need to tell how many times the ball will pass the window."
   ]
  },
  {
   "cell_type": "code",
   "execution_count": null,
   "metadata": {},
   "outputs": [],
   "source": [
    "def bouncing_ball(h, bounce, window):\n",
    "    \n",
    "    # so we need to start with the base case, the bounce cant be 1 (100%) otherwise the solution would be infinity,\n",
    "    # and it cant be 0 or negative\n",
    "    if bounce >= 1 or bounce <= 0:\n",
    "        return -1\n",
    "    \n",
    "    # so we initialize a counter but start at -1 and that will be explained in the loop\n",
    "    counter = -1\n",
    "    \n",
    "    # so our loop is looking at the height compared to the window. the moment it is shorter than the window we can\n",
    "    # stop as it doesnt matter anymore.\n",
    "    while h > window:\n",
    "        \n",
    "        # so for each iteration we want to decrease the hieght so we multiply by the bounce which is between 0 and 1\n",
    "        h *= bounce\n",
    "        \n",
    "        # This is where the -1 counter comes into play. For the initial throw the ball will pass the window once, but\n",
    "        # for every bounce following that the ball will always pass the window twice. So if we set the counter at -1\n",
    "        # and add 2 to the counter everytime we make up for that initial throw only passing once, and then we can \n",
    "        # count 2 for every other bounce\n",
    "        counter += 2\n",
    "        \n",
    "    return counter"
   ]
  }
 ],
 "metadata": {
  "kernelspec": {
   "display_name": "Python 3",
   "language": "python",
   "name": "python3"
  },
  "language_info": {
   "codemirror_mode": {
    "name": "ipython",
    "version": 3
   },
   "file_extension": ".py",
   "mimetype": "text/x-python",
   "name": "python",
   "nbconvert_exporter": "python",
   "pygments_lexer": "ipython3",
   "version": "3.7.6"
  }
 },
 "nbformat": 4,
 "nbformat_minor": 4
}
