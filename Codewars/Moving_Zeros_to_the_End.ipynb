{
 "cells": [
  {
   "cell_type": "markdown",
   "metadata": {},
   "source": [
    "This was a tricky one because of some of the special cases.\n",
    "\n",
    "Since False == 0, you cant loop through and just check if its equal to 0. So that led me to try to loop through and check if it is 0. But that gives another problem as 0 is not 0.0 and you cant check if it is 0.0"
   ]
  },
  {
   "cell_type": "code",
   "execution_count": 14,
   "metadata": {},
   "outputs": [],
   "source": [
    "def move_zeros(array):\n",
    "    # initialize a counter to store the number of 0s that will be added at the end\n",
    "    zero_count = 0\n",
    "    \n",
    "    # initialize a list to store the final result\n",
    "    result = []\n",
    "    \n",
    "    for x in array:\n",
    "        \n",
    "        # this was how i overcame the issue i discussed. Since it is only whole numbers or \n",
    "        # 0.0 what i can check is the first item, so if i convert everything to a string and \n",
    "        # check if the first item in the string is the string of 0 that makes it possible\n",
    "        # to overcome both the false and 0.0 issue\n",
    "        if str(x)[0] == '0':\n",
    "            \n",
    "            # i then add 1 to the zero count and these will all be added to the end\n",
    "            zero_count += 1\n",
    "\n",
    "        else:\n",
    "            \n",
    "            # if its not zero it will just append to the final results list\n",
    "            result.append(x)\n",
    "    \n",
    "    # here im going to loop to add a 0 while subtracting 1 from my zero_count until i exhaust \n",
    "    # it. Could be done a number of ways for i in range(zero_count):\n",
    "    while zero_count > 0:\n",
    "        \n",
    "        result.append(0)\n",
    "        zero_count -= 1\n",
    "    \n",
    "    # and finally return the result\n",
    "    return result"
   ]
  }
 ],
 "metadata": {
  "kernelspec": {
   "display_name": "Python 3",
   "language": "python",
   "name": "python3"
  },
  "language_info": {
   "codemirror_mode": {
    "name": "ipython",
    "version": 3
   },
   "file_extension": ".py",
   "mimetype": "text/x-python",
   "name": "python",
   "nbconvert_exporter": "python",
   "pygments_lexer": "ipython3",
   "version": "3.7.6"
  }
 },
 "nbformat": 4,
 "nbformat_minor": 4
}
