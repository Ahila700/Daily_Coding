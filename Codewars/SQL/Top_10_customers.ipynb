{
 "cells": [
  {
   "cell_type": "markdown",
   "metadata": {},
   "source": [
    "SQL question to find the sum of payments spent by customer using 2 different data bases and organize the top 10 customers from highest to lowest"
   ]
  },
  {
   "cell_type": "markdown",
   "metadata": {},
   "source": [
    "## SQL Query"
   ]
  },
  {
   "cell_type": "markdown",
   "metadata": {},
   "source": [
    "SELECT p.customer_id, email, COUNT(p.customer_id) as payments_count, CAST(SUM(amount) as FLOAT) as total_amount\n",
    "FROM payment p INNER JOIN customer c ON p.customer_id = c.customer_id\n",
    "GROUP BY p.customer_id, email\n",
    "ORDER by total_amount desc\n",
    "LIMIT 10;"
   ]
  }
 ],
 "metadata": {
  "kernelspec": {
   "display_name": "Python 3",
   "language": "python",
   "name": "python3"
  },
  "language_info": {
   "codemirror_mode": {
    "name": "ipython",
    "version": 3
   },
   "file_extension": ".py",
   "mimetype": "text/x-python",
   "name": "python",
   "nbconvert_exporter": "python",
   "pygments_lexer": "ipython3",
   "version": "3.7.6"
  }
 },
 "nbformat": 4,
 "nbformat_minor": 4
}
