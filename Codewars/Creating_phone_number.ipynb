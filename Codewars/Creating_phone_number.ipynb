{
 "cells": [
  {
   "cell_type": "markdown",
   "metadata": {},
   "source": [
    "I need to turn a list of 10 digits into a phone number"
   ]
  },
  {
   "cell_type": "code",
   "execution_count": null,
   "metadata": {},
   "outputs": [],
   "source": [
    "def create_phone_number(n):\n",
    "    \n",
    "    # first thing i want to do is turn the list of all the numbers into a single\n",
    "    # string of the numbers, this will make it very easy to put everything together\n",
    "    num = ''.join([str(x) for x in n])\n",
    "    \n",
    "    # now i just put it together, (first 3 numbers) space next 3 numbers - final 4 numbers\n",
    "    return '(' + num[0:3] + ')' + ' ' + num[3:6] + '-' + num[6:]"
   ]
  }
 ],
 "metadata": {
  "kernelspec": {
   "display_name": "Python 3",
   "language": "python",
   "name": "python3"
  },
  "language_info": {
   "codemirror_mode": {
    "name": "ipython",
    "version": 3
   },
   "file_extension": ".py",
   "mimetype": "text/x-python",
   "name": "python",
   "nbconvert_exporter": "python",
   "pygments_lexer": "ipython3",
   "version": "3.7.6"
  }
 },
 "nbformat": 4,
 "nbformat_minor": 4
}
