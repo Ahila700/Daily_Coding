{
 "cells": [
  {
   "cell_type": "markdown",
   "metadata": {},
   "source": [
    "We are just trying to find if the number given is a prime number. The number will always be positive as well. "
   ]
  },
  {
   "cell_type": "code",
   "execution_count": null,
   "metadata": {},
   "outputs": [],
   "source": [
    "def is_prime(num):\n",
    "    \n",
    "    # 0 and 1 are not prime numbers so this will catch those\n",
    "    if num < 2:\n",
    "        return False\n",
    "    \n",
    "    # this is a way to go through all the possible factors of a prime number. We dont have to\n",
    "    # check every number from 2 to the given number. Since 1 number will always be bigger than \n",
    "    # another we just have to check to the point where the numbers could be equal. \n",
    "    # ex: 16, we would first see the 2 which would immediately make it not prime because 2*8\n",
    "    # is 16, but if we kept going we get to the square root of 16 which is 4*4. After that we\n",
    "    # would then get to 8 which is the same as 2. So using this we just have to check the\n",
    "    # numbers from 2 to the square root of a given number.\n",
    "    \n",
    "    for x in range(2, int(num**.5)+1):\n",
    "        if num % x == 0:\n",
    "            return False\n",
    "        \n",
    "    return True"
   ]
  }
 ],
 "metadata": {
  "kernelspec": {
   "display_name": "Python 3",
   "language": "python",
   "name": "python3"
  },
  "language_info": {
   "codemirror_mode": {
    "name": "ipython",
    "version": 3
   },
   "file_extension": ".py",
   "mimetype": "text/x-python",
   "name": "python",
   "nbconvert_exporter": "python",
   "pygments_lexer": "ipython3",
   "version": "3.7.6"
  }
 },
 "nbformat": 4,
 "nbformat_minor": 4
}
