{
 "cells": [
  {
   "cell_type": "markdown",
   "metadata": {},
   "source": [
    "Given an array of any length find the sum of the array starting at each index\n",
    "\n",
    "ex: x = [1,2,3,4]\n",
    "sum of parts = [(1+2+3+4), (2+3+4), (3+4), 4]\n",
    "\n",
    "The solution can be done in 2 ways, but the simple way i showed above actually doesnt work as it takes up too much space and time to complete since it is going through a list multiple times and adding every number in the list. So i had to find another solution"
   ]
  },
  {
   "cell_type": "code",
   "execution_count": null,
   "metadata": {},
   "outputs": [],
   "source": [
    "def parts_sums(ls):\n",
    "    # first instantiate a result\n",
    "    result = []\n",
    "    \n",
    "    # the first value in the result will be the sum of all the numbers\n",
    "    result.append(sum(ls))\n",
    "    \n",
    "    # i now instantiate another value called current and set it to an integer\n",
    "    current_value = 0\n",
    "    \n",
    "    # so here is where i optimized the problem. instead of going through the whole list i just take the current value\n",
    "    # in the result, and subtract the current value in the list. So instead of adding all the numbers, except the \n",
    "    # previous one as i did above in the example, i am taking the previous total and subtracting the previous number\n",
    "    for i in range(0, len(ls)):\n",
    "        current_value = result[i] - ls[i]\n",
    "        result.append(current_value)\n",
    "        \n",
    "    # finally return the resulting list      \n",
    "    return result"
   ]
  }
 ],
 "metadata": {
  "kernelspec": {
   "display_name": "Python 3",
   "language": "python",
   "name": "python3"
  },
  "language_info": {
   "codemirror_mode": {
    "name": "ipython",
    "version": 3
   },
   "file_extension": ".py",
   "mimetype": "text/x-python",
   "name": "python",
   "nbconvert_exporter": "python",
   "pygments_lexer": "ipython3",
   "version": "3.7.6"
  }
 },
 "nbformat": 4,
 "nbformat_minor": 4
}
