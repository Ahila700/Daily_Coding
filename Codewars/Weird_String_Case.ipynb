{
 "cells": [
  {
   "cell_type": "markdown",
   "metadata": {},
   "source": [
    "Write a function toWeirdCase (weirdcase in Ruby) that accepts a string, and returns the same string with all even indexed characters in each word upper cased, and all odd indexed characters in each word lower cased. The indexing just explained is zero based, so the zero-ith index is even, therefore that character should be upper cased."
   ]
  },
  {
   "cell_type": "code",
   "execution_count": 2,
   "metadata": {},
   "outputs": [],
   "source": [
    "def to_weird_case(string):\n",
    "    # initializing an empty string\n",
    "    final_result = ''\n",
    "    \n",
    "    # looping through each word in the sentences\n",
    "    for word in string.split():\n",
    "        i = 0\n",
    "        \n",
    "        # looping through each letter in the word\n",
    "        for letter in word:\n",
    "            \n",
    "            # using the initilized value of i as the location for the letter so i can upper\n",
    "            # case every other letter starting on the first one\n",
    "            if i % 2 == 0:\n",
    "                final_result += letter.upper()\n",
    "            else:\n",
    "                final_result += letter\n",
    "            i += 1\n",
    "        \n",
    "        # adding a space between each word\n",
    "        final_result += ' '\n",
    "        \n",
    "    return final_result.strip()"
   ]
  },
  {
   "cell_type": "code",
   "execution_count": null,
   "metadata": {},
   "outputs": [],
   "source": []
  }
 ],
 "metadata": {
  "kernelspec": {
   "display_name": "Python 3",
   "language": "python",
   "name": "python3"
  },
  "language_info": {
   "codemirror_mode": {
    "name": "ipython",
    "version": 3
   },
   "file_extension": ".py",
   "mimetype": "text/x-python",
   "name": "python",
   "nbconvert_exporter": "python",
   "pygments_lexer": "ipython3",
   "version": "3.7.6"
  }
 },
 "nbformat": 4,
 "nbformat_minor": 4
}
