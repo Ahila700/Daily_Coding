{
 "cells": [
  {
   "cell_type": "markdown",
   "metadata": {},
   "source": [
    "In this challenge i need to delete occurences of an element that occurs more than n number of times in a list."
   ]
  },
  {
   "cell_type": "code",
   "execution_count": null,
   "metadata": {},
   "outputs": [],
   "source": [
    "def delete_nth(order,max_e):\n",
    "    \n",
    "    # i start by initializing the new list that will be used to store the result\n",
    "    new_list = []\n",
    "    \n",
    "    # now i am looping through the elements in the list\n",
    "    for num in order:\n",
    "        \n",
    "        # here i check if the num/ele occurs in my new list max_e number of times. If it does than i move on because\n",
    "        # i have reached the max, if it doesnt i add it onto the list\n",
    "        if new_list.count(num) < max_e:\n",
    "            new_list.append(num)\n",
    "            \n",
    "    # then i return my new list\n",
    "    return new_list"
   ]
  }
 ],
 "metadata": {
  "kernelspec": {
   "display_name": "Python 3",
   "language": "python",
   "name": "python3"
  },
  "language_info": {
   "codemirror_mode": {
    "name": "ipython",
    "version": 3
   },
   "file_extension": ".py",
   "mimetype": "text/x-python",
   "name": "python",
   "nbconvert_exporter": "python",
   "pygments_lexer": "ipython3",
   "version": "3.7.6"
  }
 },
 "nbformat": 4,
 "nbformat_minor": 4
}
