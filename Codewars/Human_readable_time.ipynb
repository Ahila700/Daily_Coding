{
 "cells": [
  {
   "cell_type": "code",
   "execution_count": null,
   "metadata": {},
   "outputs": [],
   "source": [
    "def make_readable(seconds):\n",
    "    \n",
    "    # given seconds to get hours it is just the floor division of seconds by 3600, you want floor division as if it\n",
    "    # does not reach 3600 seconds that is 0 hours\n",
    "    HH = seconds // 3600\n",
    "    \n",
    "    # i then use modulo for the seconds to find the remaining seconds after the hours, then from those divide by 60 \n",
    "    # to find the remaining minutes\n",
    "    MM = seconds % 3600 // 60\n",
    "    \n",
    "    # and finally using modulo to find the seconds left over in the end\n",
    "    SS = seconds % 60\n",
    "    \n",
    "    \n",
    "    # finally return the solution in the proper format using .format\n",
    "    return '{:02}:{:02}:{:02}'.format(HH, MM, SS)"
   ]
  }
 ],
 "metadata": {
  "kernelspec": {
   "display_name": "Python 3",
   "language": "python",
   "name": "python3"
  },
  "language_info": {
   "codemirror_mode": {
    "name": "ipython",
    "version": 3
   },
   "file_extension": ".py",
   "mimetype": "text/x-python",
   "name": "python",
   "nbconvert_exporter": "python",
   "pygments_lexer": "ipython3",
   "version": "3.7.6"
  }
 },
 "nbformat": 4,
 "nbformat_minor": 4
}
