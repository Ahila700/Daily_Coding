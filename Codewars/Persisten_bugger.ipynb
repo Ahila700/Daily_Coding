{
 "cells": [
  {
   "cell_type": "markdown",
   "metadata": {},
   "source": [
    "Here we have to break down a number by multiplying its digits until it returns a single value"
   ]
  },
  {
   "cell_type": "code",
   "execution_count": 1,
   "metadata": {},
   "outputs": [],
   "source": [
    "def persistence(n):\n",
    "    # first i convert the integer n into a string so i can iterate through its digits\n",
    "    string = str(n)\n",
    "    \n",
    "    # initialize a counter to store the result\n",
    "    count = 0\n",
    "    \n",
    "    # now i will loop through the string until the length of it is 1 aka a single value\n",
    "    while len(string) > 1:\n",
    "        \n",
    "        # set a num value to multiply the integers of each digit \n",
    "        num = 1\n",
    "        \n",
    "        # loop through the values of the string\n",
    "        for x in string:\n",
    "            \n",
    "            # multiply each value and store it into the num value as an integer\n",
    "            num = num*int(x)\n",
    "        \n",
    "        # set the value back to a string to store the length\n",
    "        string = str(num)\n",
    "        \n",
    "        # add 1 to the count\n",
    "        count +=1\n",
    "        \n",
    "        # now the while loop gets checked again so if the new string is 1 character then it\n",
    "        # will break out of it and return the current count and if its longer than 1 \n",
    "        # character than it will repeat the process until there is only a single number\n",
    "        \n",
    "    return count"
   ]
  }
 ],
 "metadata": {
  "kernelspec": {
   "display_name": "Python 3",
   "language": "python",
   "name": "python3"
  },
  "language_info": {
   "codemirror_mode": {
    "name": "ipython",
    "version": 3
   },
   "file_extension": ".py",
   "mimetype": "text/x-python",
   "name": "python",
   "nbconvert_exporter": "python",
   "pygments_lexer": "ipython3",
   "version": "3.7.6"
  }
 },
 "nbformat": 4,
 "nbformat_minor": 4
}
