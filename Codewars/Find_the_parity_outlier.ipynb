{
 "cells": [
  {
   "cell_type": "markdown",
   "metadata": {},
   "source": [
    "In this challenge we are looking to find the outlier odd or even number in a list.\n",
    "\n",
    "The approach here is 2 fold. First to identify which of the 2 is the outlier then locate the value of the outlier."
   ]
  },
  {
   "cell_type": "code",
   "execution_count": null,
   "metadata": {},
   "outputs": [],
   "source": [
    "def find_outlier(integers):\n",
    "    \n",
    "    # first we want to find which is the outlier and which of the 2 is the dominant one in\n",
    "    # the list we are given so we initialize both as 0\n",
    "    evens = 0\n",
    "    odds = 0\n",
    "    \n",
    "    # now we want to look at the first 3 values. Since there is only 1 outlier if at least \n",
    "    # 2 are even/odd we know which is the outlier and we add 1 to evens or odd at each\n",
    "    # iteration through the loop\n",
    "    for i in range(3):\n",
    "        if integers[i] % 2 == 0:\n",
    "            evens += 1\n",
    "        elif integers[i] % 2 != 0:\n",
    "            odds += 1\n",
    "    \n",
    "    # check if its even and return the first odd number in the list\n",
    "    if evens >= 2:\n",
    "        for num in integers:\n",
    "            if num % 2 == 1:\n",
    "                return num\n",
    "    # check if its odd and return the first even number in the list       \n",
    "    if odds >= 2:\n",
    "        for num in integers:\n",
    "            if num % 2 == 0:\n",
    "                return num"
   ]
  }
 ],
 "metadata": {
  "kernelspec": {
   "display_name": "Python 3",
   "language": "python",
   "name": "python3"
  },
  "language_info": {
   "codemirror_mode": {
    "name": "ipython",
    "version": 3
   },
   "file_extension": ".py",
   "mimetype": "text/x-python",
   "name": "python",
   "nbconvert_exporter": "python",
   "pygments_lexer": "ipython3",
   "version": "3.7.6"
  }
 },
 "nbformat": 4,
 "nbformat_minor": 4
}
