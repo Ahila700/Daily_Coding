{
 "cells": [
  {
   "cell_type": "markdown",
   "metadata": {},
   "source": [
    "Simple pig latin is taking the first letter in a word and putting it at the end then adding ay to the end of it as well. I tried to complicate it by returning a 1 line answer"
   ]
  },
  {
   "cell_type": "code",
   "execution_count": null,
   "metadata": {},
   "outputs": [],
   "source": [
    "def pig_it(text):\n",
    "    return ' '.join([x[1:] + x[0] + 'ay' \n",
    "                     if x[0].lower() in 'abcdefghijklmnopqrstuvwxyz' \n",
    "                     else x for x in text.split()])\n",
    "\n",
    "# So initially i start with the simple loop. Go through all the different words/punctuation \n",
    "# in the string and for each one, join the 2nd letter until the last letter, than add the \n",
    "# first letter and at the end add ay as well. The only if else statement i need is to make\n",
    "# sure it is a letter and not a punctuation so i checked if the lower case of the first letter\n",
    "# is in the alphabet.\n"
   ]
  }
 ],
 "metadata": {
  "kernelspec": {
   "display_name": "Python 3",
   "language": "python",
   "name": "python3"
  },
  "language_info": {
   "codemirror_mode": {
    "name": "ipython",
    "version": 3
   },
   "file_extension": ".py",
   "mimetype": "text/x-python",
   "name": "python",
   "nbconvert_exporter": "python",
   "pygments_lexer": "ipython3",
   "version": "3.7.6"
  }
 },
 "nbformat": 4,
 "nbformat_minor": 4
}
