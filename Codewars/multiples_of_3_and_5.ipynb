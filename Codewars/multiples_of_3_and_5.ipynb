{
 "cells": [
  {
   "cell_type": "markdown",
   "metadata": {},
   "source": [
    "THe idea is we are given a number and we have to find all the numbers below it that are divisible by 3 or 5 and find their sum"
   ]
  },
  {
   "cell_type": "code",
   "execution_count": null,
   "metadata": {},
   "outputs": [],
   "source": [
    "def solution(number):\n",
    "    \n",
    "    # initialize a list to store the factors and eventually add them\n",
    "    multiples = []\n",
    "    \n",
    "    # loop through every number between 1 and the given number\n",
    "    for i in range(1,number):\n",
    "        \n",
    "        # if its divisible by 3 or 5 append it to the list\n",
    "        if i % 3 == 0 or i % 5 == 0:\n",
    "        multiples.append(i)\n",
    "  \n",
    "    # return the final sum\n",
    "    return sum(multiples)"
   ]
  }
 ],
 "metadata": {
  "kernelspec": {
   "display_name": "Python 3",
   "language": "python",
   "name": "python3"
  },
  "language_info": {
   "codemirror_mode": {
    "name": "ipython",
    "version": 3
   },
   "file_extension": ".py",
   "mimetype": "text/x-python",
   "name": "python",
   "nbconvert_exporter": "python",
   "pygments_lexer": "ipython3",
   "version": "3.7.6"
  }
 },
 "nbformat": 4,
 "nbformat_minor": 4
}
