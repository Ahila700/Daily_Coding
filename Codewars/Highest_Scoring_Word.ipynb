{
 "cells": [
  {
   "cell_type": "markdown",
   "metadata": {},
   "source": [
    "We are given a group of words in a string and have to find the highest scoring word in that sentence using a scale where the word has a value equal to its place in the alphabet. So a = 1, b = 2, c = 3 and so on."
   ]
  },
  {
   "cell_type": "code",
   "execution_count": 1,
   "metadata": {},
   "outputs": [],
   "source": [
    "def high(x):\n",
    "    #create an alphabet as a string\n",
    "    alphabet = 'abcdefghijklmnopqrstuvwxyz'\n",
    "    \n",
    "    #initialize an empty dictionary \n",
    "    alpha_dict = {}\n",
    "    \n",
    "    #loop through the alphabet and for each letter add its value next to it\n",
    "    for i in range(0, len(alphabet)):\n",
    "        alpha_dict[alphabet[i]] = i+1\n",
    "    \n",
    "    # initialize the top score and top word that i will use to hold the highest value \n",
    "    top_score = 0\n",
    "    top_word = ''\n",
    "    \n",
    "    #loop through the sentence (using x.split() to be able to seperate the individual words)\n",
    "    for word in x.split():\n",
    "        \n",
    "        #initialize a score \n",
    "        score = 0\n",
    "        \n",
    "        #loop through every letter in individual words\n",
    "        for letter in word:\n",
    "            # add the value of that letter to the score during each loop\n",
    "            score += alpha_dict[letter]\n",
    "            \n",
    "        # if that score is higher than the top score than replace the top score with that score and store that word\n",
    "        # as the top word. Only use > to make sure if a later word has the same score it doesnt replace it as\n",
    "        # the challenge says to use the word that comes first if they have the same score.\n",
    "        if score > top_score:\n",
    "            top_word = word\n",
    "            top_score = score\n",
    "            \n",
    "        \n",
    "    return top_word"
   ]
  },
  {
   "cell_type": "code",
   "execution_count": null,
   "metadata": {},
   "outputs": [],
   "source": []
  }
 ],
 "metadata": {
  "kernelspec": {
   "display_name": "Python 3",
   "language": "python",
   "name": "python3"
  },
  "language_info": {
   "codemirror_mode": {
    "name": "ipython",
    "version": 3
   },
   "file_extension": ".py",
   "mimetype": "text/x-python",
   "name": "python",
   "nbconvert_exporter": "python",
   "pygments_lexer": "ipython3",
   "version": "3.7.6"
  }
 },
 "nbformat": 4,
 "nbformat_minor": 4
}
