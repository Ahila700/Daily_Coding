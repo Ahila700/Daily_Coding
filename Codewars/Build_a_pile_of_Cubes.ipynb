{
 "cells": [
  {
   "cell_type": "code",
   "execution_count": null,
   "metadata": {},
   "outputs": [],
   "source": [
    "def find_nb(m):\n",
    "    \n",
    "    # initialize a value n\n",
    "    n = 0\n",
    "    \n",
    "    # initialize a sum_n to hold the value of the cube to check if it matches with the value of m\n",
    "    sum_n = 0\n",
    "    \n",
    "    # continues to loop until the value of the sum is equal to or greater than m\n",
    "    while sum_n < m:\n",
    "        \n",
    "        # add 1 to the value of n which will be the output at the end\n",
    "        n += 1\n",
    "        \n",
    "        # reset the value of the sum to continue adding the new cube onto it. This method continues to build up the\n",
    "        # the n**3+(n-1)**3+...+1**3=m equation by starting with the 1**3 and moving up until it hits or passes m\n",
    "        sum_n += n**3\n",
    "        \n",
    "        \n",
    "    if sum_n == m:\n",
    "        return n\n",
    "    else:\n",
    "        return -1"
   ]
  }
 ],
 "metadata": {
  "kernelspec": {
   "display_name": "Python 3",
   "language": "python",
   "name": "python3"
  },
  "language_info": {
   "codemirror_mode": {
    "name": "ipython",
    "version": 3
   },
   "file_extension": ".py",
   "mimetype": "text/x-python",
   "name": "python",
   "nbconvert_exporter": "python",
   "pygments_lexer": "ipython3",
   "version": "3.7.6"
  }
 },
 "nbformat": 4,
 "nbformat_minor": 4
}
