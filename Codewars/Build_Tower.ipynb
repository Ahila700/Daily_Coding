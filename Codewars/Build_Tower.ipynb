{
 "cells": [
  {
   "cell_type": "markdown",
   "metadata": {},
   "source": [
    "For this challenge I had to build Tower by the following given argument: number of floors (integer and always greater than 0).\n",
    "\n",
    "[\n",
    "  '  *  ', \n",
    "  ' *** ', \n",
    "  '*****'\n",
    "]\n",
    "\n",
    "That would be a tower of 3 floors"
   ]
  },
  {
   "cell_type": "code",
   "execution_count": null,
   "metadata": {},
   "outputs": [],
   "source": [
    "def tower_builder(n_floors):\n",
    "    # base width is n_floors*2 - 1, always odd\n",
    "    # of stars is current floor * 2 -1\n",
    "    tower = []\n",
    "    \n",
    "    for floor in range(1, n_floors+1):\n",
    "        stars = (floor * 2) -1 \n",
    "        empty_space = (n_floors - floor)\n",
    "        current_row = (' ' * empty_space) + ('*' * stars) + (' ' * empty_space)\n",
    "        tower.append(current_row)\n",
    "    return tower"
   ]
  }
 ],
 "metadata": {
  "kernelspec": {
   "display_name": "Python 3",
   "language": "python",
   "name": "python3"
  },
  "language_info": {
   "codemirror_mode": {
    "name": "ipython",
    "version": 3
   },
   "file_extension": ".py",
   "mimetype": "text/x-python",
   "name": "python",
   "nbconvert_exporter": "python",
   "pygments_lexer": "ipython3",
   "version": "3.7.6"
  }
 },
 "nbformat": 4,
 "nbformat_minor": 4
}
