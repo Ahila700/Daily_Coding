{
 "cells": [
  {
   "cell_type": "markdown",
   "metadata": {},
   "source": [
    "For this problem we need to return a string but instead of the letter we return its position in the alphabet and leave all punctuation and everything else untouched\n",
    "\n",
    "I took a very straight forward approach as it provided the most simplicity to the final solution"
   ]
  },
  {
   "cell_type": "code",
   "execution_count": null,
   "metadata": {},
   "outputs": [],
   "source": [
    "def alphabet_position(text):\n",
    "    \n",
    "    # return the original string in all lower case\n",
    "    text = text.lower()\n",
    "    \n",
    "    # initialize an empty list to store the solution\n",
    "    char_position = []\n",
    "    \n",
    "    # create a dictionary with all the letter and their position in the alphabet\n",
    "    char_dictionary = {\"a\": \"1\", \"b\": \"2\", \"c\": \"3\", \"d\": \"4\", \n",
    "                       \"e\": \"5\", \"f\": \"6\", \"g\": \"7\", \"h\": \"8\", \n",
    "                       \"i\": \"9\", \"j\": \"10\", \"k\": \"11\", \"l\": \"12\", \n",
    "                       \"m\": \"13\", \"n\": \"14\", \"o\": \"15\", \"p\": \"16\", \n",
    "                       \"q\": \"17\", \"r\": \"18\", \"s\": \"19\", \"t\": \"20\", \n",
    "                       \"u\": \"21\", \"v\": \"22\", \"w\": \"23\", \"x\": \"24\", \n",
    "                       \"y\": \"25\", \"z\": \"26\"}\n",
    "    \n",
    "    # loop through the text to replace the letter with its corresponding number in the dictionary than \n",
    "    # append that letter to the list. ignoring all non letters\n",
    "    for char in text:\n",
    "        if char in \"abcdefghijklmnopqrstuvwxyz\":\n",
    "            char_position.append(char_dictionary[char])\n",
    "            \n",
    "    # join the letters in the list into a string\n",
    "    char_string = \" \".join(char_position)\n",
    "    \n",
    "    # return the string\n",
    "    return char_string"
   ]
  }
 ],
 "metadata": {
  "kernelspec": {
   "display_name": "Python 3",
   "language": "python",
   "name": "python3"
  },
  "language_info": {
   "codemirror_mode": {
    "name": "ipython",
    "version": 3
   },
   "file_extension": ".py",
   "mimetype": "text/x-python",
   "name": "python",
   "nbconvert_exporter": "python",
   "pygments_lexer": "ipython3",
   "version": "3.7.6"
  }
 },
 "nbformat": 4,
 "nbformat_minor": 4
}
