{
 "cells": [
  {
   "cell_type": "markdown",
   "metadata": {},
   "source": [
    "The idea behind this is to keep track of what the previous value"
   ]
  },
  {
   "cell_type": "code",
   "execution_count": null,
   "metadata": {},
   "outputs": [],
   "source": [
    "def unique_in_order(iterable):\n",
    "    # initialize an empty list to store the final results \n",
    "    results = []\n",
    "    \n",
    "    # initialize an empty string to store the current value of the list\n",
    "    current = ''\n",
    "    \n",
    "    # iterate through the list \n",
    "    for x in iterable:\n",
    "        \n",
    "        # if the current value of x is not equal to the value of current than that is a\n",
    "        # new value that should be stored in the list\n",
    "        if x != current:\n",
    "            \n",
    "            # append the list with that unique value\n",
    "            results.append(x)\n",
    "            \n",
    "            # reset the current to the value that was appended to avoid readding the same\n",
    "            # value\n",
    "            current = x\n",
    "            \n",
    "    return results\n",
    "            "
   ]
  }
 ],
 "metadata": {
  "kernelspec": {
   "display_name": "Python 3",
   "language": "python",
   "name": "python3"
  },
  "language_info": {
   "codemirror_mode": {
    "name": "ipython",
    "version": 3
   },
   "file_extension": ".py",
   "mimetype": "text/x-python",
   "name": "python",
   "nbconvert_exporter": "python",
   "pygments_lexer": "ipython3",
   "version": "3.7.6"
  }
 },
 "nbformat": 4,
 "nbformat_minor": 4
}
