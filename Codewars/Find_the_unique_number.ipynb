{
 "cells": [
  {
   "cell_type": "markdown",
   "metadata": {},
   "source": [
    "Given an array with all equal numbers but 1, find the odd number out"
   ]
  },
  {
   "cell_type": "code",
   "execution_count": null,
   "metadata": {},
   "outputs": [],
   "source": [
    "def find_uniq(arr):\n",
    "    # your code here\n",
    "    \n",
    "    # instantiated a dictionary to hold the values and the count of the values\n",
    "    # this way if a number appears more than once it will keep adding to the count of the number \n",
    "    dict = {}\n",
    "    \n",
    "    # loop through the array and add 1 for each instance of the multiple number and only once for the instance of \n",
    "    # the single number\n",
    "    for x in arr:\n",
    "        if x not in dict.keys():\n",
    "            dict[x] = 1\n",
    "        else:\n",
    "            dict[x] += 1\n",
    "           \n",
    "    # look for the number with a count of 1\n",
    "    return [x for x,y in dict.items() if y == 1][0]"
   ]
  }
 ],
 "metadata": {
  "kernelspec": {
   "display_name": "Python 3",
   "language": "python",
   "name": "python3"
  },
  "language_info": {
   "codemirror_mode": {
    "name": "ipython",
    "version": 3
   },
   "file_extension": ".py",
   "mimetype": "text/x-python",
   "name": "python",
   "nbconvert_exporter": "python",
   "pygments_lexer": "ipython3",
   "version": "3.7.6"
  }
 },
 "nbformat": 4,
 "nbformat_minor": 4
}
