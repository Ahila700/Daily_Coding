{
 "cells": [
  {
   "cell_type": "markdown",
   "metadata": {},
   "source": [
    "This was a problem that stumped me for a while but finally I was able to get it.\n",
    "\n",
    "The basis of the problem is that you are given a list of diections ex: ['North', 'East', 'West', 'South', 'West'] and have to reduce those directions to the minimum by removing any back to back directions.\n",
    "\n",
    "So going east then west is unnecessary so those 2 are removed, but when you remove those then you have north and south next to eachother so you remove those as well and you end up just going east. \n",
    "\n",
    "The reason i had problems with this was because i kept trying to navigate back and forth along the stringm which is definitely possible, but i couldnt get it to work. Finally i realized i could just take a longer approach and use recursion here."
   ]
  },
  {
   "cell_type": "code",
   "execution_count": null,
   "metadata": {},
   "outputs": [],
   "source": [
    "def dirReduc(arr):\n",
    "    # first i want to give unique values to each direction so i can know when north and south are next to eachother \n",
    "    # or east and west etc\n",
    "    dict = {'NORTH': 1, 'SOUTH': -1, 'EAST': 2, 'WEST': -2}\n",
    "    result = []\n",
    "    \n",
    "    # I loop through the list trying to find a location where two directions are opposite eachother and if they are\n",
    "    # then append a list with all the remaining directions\n",
    "    for x in range(0, len(arr)-1):\n",
    "        if dict[arr[x]] + dict[arr[x+1]] == 0:\n",
    "            result = arr[:x] + arr[x+2:]\n",
    "            break\n",
    "            \n",
    "    # so after that there should be 2 results. Either a list of directions that dont correlate or an empty list\n",
    "    # this if statement is to catch empty lists\n",
    "    if len(arr) == 2 and (dict[arr[0]] + dict[arr[1]] == 0):\n",
    "        return []\n",
    "\n",
    "    # this will return the array remaining if there are no correlations at all\n",
    "    if result == []:\n",
    "        return arr\n",
    "    \n",
    "    # and this is where the recursion occurs, since im only removing 2 items at a time i need to continue doing so\n",
    "    # until i hit 1 of the 2 if statements above\n",
    "    return dirReduc(result)"
   ]
  }
 ],
 "metadata": {
  "kernelspec": {
   "display_name": "Python 3",
   "language": "python",
   "name": "python3"
  },
  "language_info": {
   "codemirror_mode": {
    "name": "ipython",
    "version": 3
   },
   "file_extension": ".py",
   "mimetype": "text/x-python",
   "name": "python",
   "nbconvert_exporter": "python",
   "pygments_lexer": "ipython3",
   "version": "3.7.6"
  }
 },
 "nbformat": 4,
 "nbformat_minor": 4
}
