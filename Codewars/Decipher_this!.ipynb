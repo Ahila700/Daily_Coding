{
 "cells": [
  {
   "cell_type": "markdown",
   "metadata": {},
   "source": [
    "You are given a secret message you need to decipher. Here are the things you need to know to decipher it:\n",
    "\n",
    "For each word:\n",
    "\n",
    "- the second and the last letter is switched (e.g. Hello becomes Holle)\n",
    "\n",
    "- the first letter is replaced by its character code (e.g. H becomes 72)\n",
    "\n",
    "Note: there are no special characters used, only letters and spaces\n",
    "\n"
   ]
  },
  {
   "cell_type": "code",
   "execution_count": 1,
   "metadata": {},
   "outputs": [],
   "source": [
    "def decipher_this(string):\n",
    "    \n",
    "    # The first step i took was to make a dictionary of values and their unicode characters\n",
    "    codes_dict = {}\n",
    "    alphabet_upper = 'ABCDEFGHIJKLMNOPQRSTUVWXYZ'\n",
    "    alphabet = 'abcdefghijklmnopqrstuvwxyz'\n",
    "    \n",
    "    # This is a loop for lower and upper case characters to be put in the dictionary\n",
    "    for x in range(0, 26):\n",
    "        codes_dict[x+65] = alphabet_upper[x]\n",
    "    for x in range(0, 26):\n",
    "        codes_dict[x+97] = alphabet[x]\n",
    "    \n",
    "    # since the values of the numbers are specific 65-91 for upper case and 97-123 for lower\n",
    "    # case. And then adding the character from that sentence to the overall word and storing\n",
    "    # the word in a list\n",
    "    result = []\n",
    "    for x in string.split():\n",
    "        \n",
    "        if (int(x[0]) >= 6) & (len(x) == 2):\n",
    "            new_word = codes_dict[int(x[0:2])]\n",
    "            result.append(new_word)\n",
    "        \n",
    "        elif int(x[0]) >= 6:\n",
    "            new_word = codes_dict[int(x[0:2])] + x[2:]\n",
    "            result.append(new_word)\n",
    "            \n",
    "        elif (int(x[0]) == 1) & (len(x) == 3):\n",
    "            new_word = codes_dict[int(x[0:3])]\n",
    "            result.append(new_word)\n",
    "            \n",
    "        elif int(x[0]) == 1:\n",
    "            new_word = codes_dict[int(x[0:3])] + x[3:]\n",
    "            result.append(new_word)\n",
    "    \n",
    "    \n",
    "    # This will then rearrange the result to the proper order\n",
    "    final_result = []\n",
    "    for x in result:\n",
    "        \n",
    "        if len(x) < 3:\n",
    "            final_result.append(x)\n",
    "            \n",
    "        elif len(x) == 3:\n",
    "            final_result.append(x[0] + x[2] + x[1])\n",
    "            \n",
    "        elif len(x) > 3:\n",
    "            final_word = x[0] + x[-1] + x[2:-1] + x[1]\n",
    "            final_result.append(final_word)\n",
    "    \n",
    "    \n",
    "    \n",
    "    return ' '.join(final_result)"
   ]
  }
 ],
 "metadata": {
  "kernelspec": {
   "display_name": "Python 3",
   "language": "python",
   "name": "python3"
  },
  "language_info": {
   "codemirror_mode": {
    "name": "ipython",
    "version": 3
   },
   "file_extension": ".py",
   "mimetype": "text/x-python",
   "name": "python",
   "nbconvert_exporter": "python",
   "pygments_lexer": "ipython3",
   "version": "3.7.6"
  }
 },
 "nbformat": 4,
 "nbformat_minor": 4
}
