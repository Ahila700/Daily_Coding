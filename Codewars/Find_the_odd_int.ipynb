{
 "cells": [
  {
   "cell_type": "markdown",
   "metadata": {},
   "source": [
    "There is an easier way to do this using counter from itertools but i feel that defeats the purpose of completing this using some basic python tools"
   ]
  },
  {
   "cell_type": "code",
   "execution_count": 1,
   "metadata": {},
   "outputs": [],
   "source": [
    "def find_it(seq):\n",
    "    \n",
    "    # initialize a dictionary to keep track of the count of each value\n",
    "    counter_dict = {}\n",
    "    \n",
    "    # loop through a set of the values in the array (seq), the reason for a set is not to have a dictionary that has\n",
    "    # the same number with a count of that number multiple times. This will be faster and will make getting the final\n",
    "    # answer much quicker\n",
    "    for num in set(seq):\n",
    "        \n",
    "        # set the number in the array as the key, and the count of that number as the value\n",
    "        counter_dict[num] = seq.count(num)\n",
    "    \n",
    "    # the second and last loop is to go through those keys and values, and check if a value is odd, if its odd then\n",
    "    # we can stop the loop and output the final key for that value which is the number that is odd. \n",
    "    for i, j in counter_dict.items():\n",
    "        if j%2 != 0:\n",
    "            return i"
   ]
  }
 ],
 "metadata": {
  "kernelspec": {
   "display_name": "Python 3",
   "language": "python",
   "name": "python3"
  },
  "language_info": {
   "codemirror_mode": {
    "name": "ipython",
    "version": 3
   },
   "file_extension": ".py",
   "mimetype": "text/x-python",
   "name": "python",
   "nbconvert_exporter": "python",
   "pygments_lexer": "ipython3",
   "version": "3.7.6"
  }
 },
 "nbformat": 4,
 "nbformat_minor": 4
}
