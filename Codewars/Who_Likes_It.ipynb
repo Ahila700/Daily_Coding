{
 "cells": [
  {
   "cell_type": "markdown",
   "metadata": {},
   "source": [
    "In this challenge we need to return a string given a list of names. The best approach for this is to take each case individually. So 0, 1, 2, 3 and 4+ names in the list have their own unique outputs.\n",
    "\n",
    "Using the .format() or %s option is the way to insert the value you want into a preset string. Since the only thing changing in each output is the name."
   ]
  },
  {
   "cell_type": "code",
   "execution_count": null,
   "metadata": {},
   "outputs": [],
   "source": [
    "def likes(names):\n",
    "    \n",
    "    # return for 0 names\n",
    "    if len(names) == 0:\n",
    "        return 'no one likes this'\n",
    "    \n",
    "    # return for 1 name\n",
    "    elif len(names) == 1:\n",
    "        return '{} likes this'.format(names[0])\n",
    "    \n",
    "    # return for 2 names\n",
    "    elif len(names) == 2:\n",
    "        return '{} and {} like this'.format(names[0], names[1])\n",
    "    \n",
    "    # return for 3 names\n",
    "    elif len(names) == 3:\n",
    "        return '{}, {} and {} like this'.format(names[0], names[1], names[2])\n",
    "    \n",
    "    # this will return 4 or more names. \n",
    "    elif len(names) >= 4:\n",
    "        return '{}, {} and {} others like this'.format(names[0], names[1], len(names) - 2)"
   ]
  }
 ],
 "metadata": {
  "kernelspec": {
   "display_name": "Python 3",
   "language": "python",
   "name": "python3"
  },
  "language_info": {
   "codemirror_mode": {
    "name": "ipython",
    "version": 3
   },
   "file_extension": ".py",
   "mimetype": "text/x-python",
   "name": "python",
   "nbconvert_exporter": "python",
   "pygments_lexer": "ipython3",
   "version": "3.7.6"
  }
 },
 "nbformat": 4,
 "nbformat_minor": 4
}
