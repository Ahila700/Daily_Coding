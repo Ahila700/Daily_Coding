{
 "cells": [
  {
   "cell_type": "markdown",
   "metadata": {},
   "source": [
    "Long if, else loops to cover the game of Rock, Paper, Scissor, Lizard, Spock from big bang theory"
   ]
  },
  {
   "cell_type": "code",
   "execution_count": null,
   "metadata": {},
   "outputs": [],
   "source": [
    "def result(p1, p2):\n",
    "    if p1.lower() == 'spock':\n",
    "        if p2.lower() == 'rock' or p2.lower() == 'scissor':\n",
    "            return 'Player 1 won!'\n",
    "        elif p2.lower() == 'lizard' or p2.lower() == 'paper':\n",
    "            return 'Player 2 won!'\n",
    "        elif p2.lower() == 'spock':\n",
    "            return \"Draw!\"\n",
    "        else:\n",
    "            return 'Oh, Unknown Thing'\n",
    "        \n",
    "    elif p1.lower() == 'rock':\n",
    "        if p2.lower() == 'lizard' or p2.lower() == 'scissor':\n",
    "            return 'Player 1 won!'\n",
    "        elif p2.lower() == 'spock' or p2.lower() == 'paper':\n",
    "            return 'Player 2 won!'\n",
    "        elif p2.lower() == 'rock':\n",
    "            return \"Draw!\"\n",
    "        else:\n",
    "            return 'Oh, Unknown Thing'\n",
    "        \n",
    "    elif p1.lower() == 'lizard':\n",
    "        if p2.lower() == 'spock' or p2.lower() == 'paper':\n",
    "            return 'Player 1 won!'\n",
    "        elif p2.lower() == 'rock' or p2.lower() == 'scissor':\n",
    "            return 'Player 2 won!'\n",
    "        elif p2.lower() == 'lizard':\n",
    "            return \"Draw!\"\n",
    "        else:\n",
    "            return 'Oh, Unknown Thing'\n",
    "        \n",
    "    elif p1.lower() == 'scissor':\n",
    "        if p2.lower() == 'paper' or p2.lower() == 'lizard':\n",
    "            return 'Player 1 won!'\n",
    "        elif p2.lower() == 'spock' or p2.lower() == 'rock':\n",
    "            return 'Player 2 won!'\n",
    "        elif p2.lower() == 'scissor':\n",
    "            return \"Draw!\"\n",
    "        else:\n",
    "            return 'Oh, Unknown Thing'\n",
    "        \n",
    "    elif p1.lower() == 'paper':\n",
    "        if p2.lower() == 'rock' or p2.lower() == 'spock':\n",
    "            return 'Player 1 won!'\n",
    "        elif p2.lower() == 'lizard' or p2.lower() == 'scissor':\n",
    "            return 'Player 2 won!'\n",
    "        elif p2.lower() == 'paper':\n",
    "            return \"Draw!\"\n",
    "        else:\n",
    "            return 'Oh, Unknown Thing'\n",
    "        \n",
    "    return 'Oh, Unknown Thing'"
   ]
  }
 ],
 "metadata": {
  "kernelspec": {
   "display_name": "Python 3",
   "language": "python",
   "name": "python3"
  },
  "language_info": {
   "codemirror_mode": {
    "name": "ipython",
    "version": 3
   },
   "file_extension": ".py",
   "mimetype": "text/x-python",
   "name": "python",
   "nbconvert_exporter": "python",
   "pygments_lexer": "ipython3",
   "version": "3.7.6"
  }
 },
 "nbformat": 4,
 "nbformat_minor": 4
}
