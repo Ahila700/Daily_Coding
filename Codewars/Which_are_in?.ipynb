{
 "cells": [
  {
   "cell_type": "markdown",
   "metadata": {},
   "source": [
    "Given two arrays of strings a1 and a2 return a sorted array r in lexicographical order of the strings of a1 which are substrings of strings of a2."
   ]
  },
  {
   "cell_type": "code",
   "execution_count": null,
   "metadata": {},
   "outputs": [],
   "source": [
    "def in_array(array1, array2):\n",
    "    # initialize an empty list\n",
    "    result = []\n",
    "    \n",
    "    # loop through all words in array1\n",
    "    for x in array1:\n",
    "        \n",
    "        # loop through all words in array2\n",
    "        for y in array2:\n",
    "            \n",
    "            # if the first word is in the second word then add it to the list\n",
    "            if x in y:\n",
    "                result.append(x)\n",
    "    \n",
    "    # finally return a sorted set of the list so it only returns unique cases of the word\n",
    "    # in order\n",
    "    return sorted(set(result))"
   ]
  }
 ],
 "metadata": {
  "kernelspec": {
   "display_name": "Python 3",
   "language": "python",
   "name": "python3"
  },
  "language_info": {
   "codemirror_mode": {
    "name": "ipython",
    "version": 3
   },
   "file_extension": ".py",
   "mimetype": "text/x-python",
   "name": "python",
   "nbconvert_exporter": "python",
   "pygments_lexer": "ipython3",
   "version": "3.7.6"
  }
 },
 "nbformat": 4,
 "nbformat_minor": 4
}
