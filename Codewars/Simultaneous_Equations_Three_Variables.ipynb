{
 "cells": [
  {
   "cell_type": "markdown",
   "metadata": {},
   "source": [
    "Here we have to solve a simulataneous equation of 3 variables. There are 2 ways to go about it, a much harder method which include finding the proper substitution in each line to get the 3 variables the way you would in algebra. The other is to treat it as a matrix and us the numpy library"
   ]
  },
  {
   "cell_type": "code",
   "execution_count": null,
   "metadata": {},
   "outputs": [],
   "source": [
    "# importing the numpy library to create matrices and eventually use linear algebra to solve \n",
    "import numpy as np\n",
    "\n",
    "def solve_eq(eq):\n",
    "    \n",
    "    # get a 3 by 3 matrix of the variables\n",
    "    a = np.array([ar[:3] for ar in eq])\n",
    "    \n",
    "    # get a 1 by 3 matrix of the solutions\n",
    "    b = np.array([ar[-1] for ar in eq])\n",
    "    \n",
    "    # return the results using the numpy libraries linalg.solve function. This does all the tedious matrix \n",
    "    # work for you. I had to round as some of the solutions came out to 1.000000004 instead of 1 due to the nature\n",
    "    # of the equation\n",
    "    results = [round(x) for x in np.linalg.solve(a, b)]\n",
    "    \n",
    "    # return the results (this line could be combined with the previous line to shorten it but it was cleaner as is)\n",
    "    return results"
   ]
  }
 ],
 "metadata": {
  "kernelspec": {
   "display_name": "Python 3",
   "language": "python",
   "name": "python3"
  },
  "language_info": {
   "codemirror_mode": {
    "name": "ipython",
    "version": 3
   },
   "file_extension": ".py",
   "mimetype": "text/x-python",
   "name": "python",
   "nbconvert_exporter": "python",
   "pygments_lexer": "ipython3",
   "version": "3.7.6"
  }
 },
 "nbformat": 4,
 "nbformat_minor": 4
}
