{
 "cells": [
  {
   "cell_type": "markdown",
   "metadata": {},
   "source": [
    "Have to take and array and find an index N where the sum of the integers to the left of N is equal to the sum of the integers to the right of N. If there is no index that would make this happen, return -1"
   ]
  },
  {
   "cell_type": "code",
   "execution_count": null,
   "metadata": {},
   "outputs": [],
   "source": [
    "def find_even_index(arr):\n",
    "    \n",
    "    # simple loop through the array\n",
    "    for i in range(0, len(arr)):\n",
    "        \n",
    "        # Find the sum of the array to the left of the index and the right of the index and\n",
    "        # if the values are equal return that index\n",
    "        if sum(arr[0:i]) == sum(arr[i+1:]):\n",
    "                return i\n",
    "    # if they are never equal then return -1\n",
    "    return -1"
   ]
  }
 ],
 "metadata": {
  "kernelspec": {
   "display_name": "Python 3",
   "language": "python",
   "name": "python3"
  },
  "language_info": {
   "codemirror_mode": {
    "name": "ipython",
    "version": 3
   },
   "file_extension": ".py",
   "mimetype": "text/x-python",
   "name": "python",
   "nbconvert_exporter": "python",
   "pygments_lexer": "ipython3",
   "version": "3.7.6"
  }
 },
 "nbformat": 4,
 "nbformat_minor": 4
}
