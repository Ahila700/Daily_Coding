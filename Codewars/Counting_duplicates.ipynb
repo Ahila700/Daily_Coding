{
 "cells": [
  {
   "cell_type": "markdown",
   "metadata": {},
   "source": [
    "Here we need to find the number of letters that are repeating in a single string"
   ]
  },
  {
   "cell_type": "code",
   "execution_count": null,
   "metadata": {},
   "outputs": [],
   "source": [
    "def duplicate_count(text):\n",
    "    \n",
    "    # so i am going to initialize 2 different lists\n",
    "    # first is the used list to find the letters that have been used already\n",
    "    used = []\n",
    "    \n",
    "    # second is a repeat list so that i dont count the same repeating letter twice\n",
    "    repeat = []\n",
    "    \n",
    "    # i am also initializing a counter to store the final result\n",
    "    counter = 0\n",
    "    \n",
    "    # looping through all the letters in the string. Using .lower() for any random upper case\n",
    "    # letter that have already been used\n",
    "    for letter in text.lower():\n",
    "        \n",
    "        # if a letter is not in the used list then it appends and moves on to the next one\n",
    "        if letter not in used:\n",
    "            used.append(letter)\n",
    "            \n",
    "        # if its in the used list then i am checking if its in the repeating list. If its\n",
    "        # not then i am adding 1 to the counter and adding the letter to the repeating list\n",
    "        # so that it cant be added again later on\n",
    "        elif letter not in repeat:\n",
    "            counter += 1\n",
    "            repeat.append(letter)\n",
    "            \n",
    "        \n",
    "    return counter"
   ]
  }
 ],
 "metadata": {
  "kernelspec": {
   "display_name": "Python 3",
   "language": "python",
   "name": "python3"
  },
  "language_info": {
   "codemirror_mode": {
    "name": "ipython",
    "version": 3
   },
   "file_extension": ".py",
   "mimetype": "text/x-python",
   "name": "python",
   "nbconvert_exporter": "python",
   "pygments_lexer": "ipython3",
   "version": "3.7.6"
  }
 },
 "nbformat": 4,
 "nbformat_minor": 4
}
