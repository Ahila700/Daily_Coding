{
 "cells": [
  {
   "cell_type": "markdown",
   "metadata": {},
   "source": [
    "They are just looking for the number of times the max number appears overall"
   ]
  },
  {
   "cell_type": "code",
   "execution_count": null,
   "metadata": {},
   "outputs": [],
   "source": [
    "def birthdayCakeCandles(ar):\n",
    "    \n",
    "    # find the max height of the group of candles\n",
    "    max_height = max(ar)\n",
    "    \n",
    "    # initialize a counter\n",
    "    counter = 0\n",
    "    \n",
    "    # go through each value in the array ar\n",
    "    for num in ar:\n",
    "        \n",
    "        # if the height of that value is equal to the maximum height than add 1 to the counter\n",
    "        if num == max_height:\n",
    "            counter += 1\n",
    "            \n",
    "    # return the counter\n",
    "    return counter\n"
   ]
  }
 ],
 "metadata": {
  "kernelspec": {
   "display_name": "Python 3",
   "language": "python",
   "name": "python3"
  },
  "language_info": {
   "codemirror_mode": {
    "name": "ipython",
    "version": 3
   },
   "file_extension": ".py",
   "mimetype": "text/x-python",
   "name": "python",
   "nbconvert_exporter": "python",
   "pygments_lexer": "ipython3",
   "version": "3.7.6"
  }
 },
 "nbformat": 4,
 "nbformat_minor": 4
}
