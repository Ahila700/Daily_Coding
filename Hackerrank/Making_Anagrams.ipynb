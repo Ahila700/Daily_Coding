{
 "cells": [
  {
   "cell_type": "markdown",
   "metadata": {},
   "source": [
    "In this task we are given 2 different strings and we need to remove letters in both until we can make one an anagram of the other"
   ]
  },
  {
   "cell_type": "code",
   "execution_count": null,
   "metadata": {},
   "outputs": [],
   "source": [
    "def makeAnagram(a, b):\n",
    "    \n",
    "    # we start by initializing a counter\n",
    "    counter = 0\n",
    "    \n",
    "    # we go to the first of our 3 loops, going through a\n",
    "    for x in a:\n",
    "        \n",
    "        # This is the very important part, as we want all the letters that are in both a and b but we only want them\n",
    "        # once.\n",
    "        if x in b:\n",
    "            \n",
    "            # we use the counter to store the absolute difference between the count of each letter that is in \n",
    "            # both a and b. This is so a letter that appears more than once in a/b and not in the other is removed\n",
    "            counter += abs(a.count(x) - b.count(x))\n",
    "            \n",
    "            # we then remove the letter in all occurences from both\n",
    "            a = a.replace(x, '')\n",
    "            b = b.replace(x, '')\n",
    "\n",
    "\n",
    "\n",
    "    # finally we have a simple return, adding the count found in the loop, with the remaining letters in a and b\n",
    "    \n",
    "    return counter+len(a)+len(b)"
   ]
  }
 ],
 "metadata": {
  "kernelspec": {
   "display_name": "Python 3",
   "language": "python",
   "name": "python3"
  },
  "language_info": {
   "codemirror_mode": {
    "name": "ipython",
    "version": 3
   },
   "file_extension": ".py",
   "mimetype": "text/x-python",
   "name": "python",
   "nbconvert_exporter": "python",
   "pygments_lexer": "ipython3",
   "version": "3.7.6"
  }
 },
 "nbformat": 4,
 "nbformat_minor": 4
}
