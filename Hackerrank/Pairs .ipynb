{
 "cells": [
  {
   "cell_type": "code",
   "execution_count": null,
   "metadata": {},
   "outputs": [],
   "source": [
    "# Complete the pairs function below.\n",
    "def pairs(k, arr):\n",
    "\n",
    "    # intialize a counter\n",
    "    counter = 0\n",
    "\n",
    "    # sort the array so we get the numbers from smallest to largest since all the values are unique\n",
    "    arr = sorted(arr)\n",
    "\n",
    "    # loop through the array\n",
    "    for x in arr:\n",
    "        \n",
    "        # goes through every value in the array and adds on k, if that new value is in the array that means that\n",
    "        # we can add 1 to the counter and since it is all unique values and we sort the array we make sure not to\n",
    "        # go through the same value twice\n",
    "        if x + k in arr:\n",
    "            \n",
    "            counter += 1\n",
    "\n",
    "    return counter"
   ]
  }
 ],
 "metadata": {
  "kernelspec": {
   "display_name": "Python 3",
   "language": "python",
   "name": "python3"
  },
  "language_info": {
   "codemirror_mode": {
    "name": "ipython",
    "version": 3
   },
   "file_extension": ".py",
   "mimetype": "text/x-python",
   "name": "python",
   "nbconvert_exporter": "python",
   "pygments_lexer": "ipython3",
   "version": "3.7.6"
  }
 },
 "nbformat": 4,
 "nbformat_minor": 4
}
